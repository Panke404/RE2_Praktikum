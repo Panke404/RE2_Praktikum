{
 "cells": [
  {
   "cell_type": "markdown",
   "id": "744ede84-2b63-4443-a31f-bb21bf57e195",
   "metadata": {},
   "source": [
    "# Datenimport in Python\n",
    "\n",
    "In diesem Kapitel wird der Datenimport und die dafür benötigte Datenstruktur näher erläutert.\n",
    "\n",
    "---"
   ]
  },
  {
   "cell_type": "markdown",
   "id": "a19af226-bb96-4f57-bdd8-1b497137544e",
   "metadata": {},
   "source": [
    "Um Daten einlesen zu können, müssen diese in einer Datei abgespeichert sein, die für Python \"einfach\" lesbar ist. Dafür bieten sich vor Allem unformatierte Dateiformate wie .txt oder .csv an. Sie können auch Daten aus Excel nutzen, indem Sie die Export-Funktion von Excel nutzen und die Tabelleninhalte als .txt oder .csv ausgeben.\n",
    "\n",
    "Es ist dabei von Vorteil, direkt bei der Datenaufzeichnung eine einheitliche Notation zu verwenden. Empfohlen wird, Daten in Spalten einzutragen, die jeweils eine Kopfzeile haben. Die Spalten sollten durch einen Tabulator oder 4 Leerzeichen voneinander getrennt sein. Ein Beispiel:"
   ]
  },
  {
   "cell_type": "markdown",
   "id": "94778494-2e62-4dfc-80fd-5f7cf8975acd",
   "metadata": {},
   "source": [
    "![Messdaten Versuch 1](Messdaten_Versuch1.png \"Messdaten Versuch 1\")"
   ]
  },
  {
   "cell_type": "markdown",
   "id": "1132f112-afe5-4c82-86aa-363d7cbc4e7a",
   "metadata": {},
   "source": [
    "Wie oben zu sehen, wurde bei den ersten Zeilen eine # vorangestellt. Dies ist die bereits erwähnte Python-Syntax für Kommentare.\n",
    "\n"
   ]
  },
  {
   "cell_type": "code",
   "execution_count": 7,
   "id": "0c58f9d1-36e4-489e-abac-abeaacfdc6c8",
   "metadata": {},
   "outputs": [],
   "source": [
    "import numpy as np"
   ]
  },
  {
   "cell_type": "code",
   "execution_count": 11,
   "id": "4faa04e6-1428-48a1-ad4a-90c37e188802",
   "metadata": {},
   "outputs": [
    {
     "data": {
      "text/plain": [
       "array([[4.791e+03, 3.740e+00, 4.100e+00],\n",
       "       [4.678e+03, 3.540e+00, 1.050e+01],\n",
       "       [4.537e+03, 3.330e+00, 2.020e+01],\n",
       "       [4.422e+03, 3.130e+00, 2.840e+01],\n",
       "       [4.297e+03, 2.920e+00, 3.720e+01],\n",
       "       [4.175e+03, 2.730e+00, 4.500e+01],\n",
       "       [4.029e+03, 2.510e+00, 5.340e+01],\n",
       "       [3.900e+03, 2.330e+00, 6.040e+01],\n",
       "       [3.766e+03, 2.120e+00, 6.860e+01],\n",
       "       [3.581e+03, 1.900e+00, 7.620e+01],\n",
       "       [3.465e+03, 1.710e+00, 8.260e+01],\n",
       "       [3.312e+03, 1.530e+00, 8.860e+01],\n",
       "       [3.110e+03, 1.320e+00, 9.490e+01],\n",
       "       [2.923e+03, 1.100e+00, 9.930e+01],\n",
       "       [2.628e+03, 8.550e-01, 1.017e+02],\n",
       "       [2.354e+03, 7.380e-01, 9.930e+01]])"
      ]
     },
     "execution_count": 11,
     "metadata": {},
     "output_type": "execute_result"
    }
   ],
   "source": [
    "np.loadtxt(\"Messdaten_Versuch1.txt\")"
   ]
  },
  {
   "cell_type": "code",
   "execution_count": null,
   "id": "e98558a7-4f95-40b3-8bae-2d9832cf8160",
   "metadata": {},
   "outputs": [],
   "source": []
  },
  {
   "cell_type": "code",
   "execution_count": null,
   "id": "502e9bf2-5942-46a6-97cc-05ca0063fc76",
   "metadata": {},
   "outputs": [],
   "source": []
  },
  {
   "cell_type": "code",
   "execution_count": null,
   "id": "5c17fcd5-a712-4cef-88df-9b1af21872c7",
   "metadata": {},
   "outputs": [],
   "source": []
  },
  {
   "cell_type": "code",
   "execution_count": null,
   "id": "f7907c36-d783-45fa-9b6f-380efafd691c",
   "metadata": {},
   "outputs": [],
   "source": []
  },
  {
   "cell_type": "markdown",
   "id": "3e08bea7-caf0-4e16-9825-82bce243b657",
   "metadata": {},
   "source": [
    "Dateien können mit der funktion `f` für file geöffnet werden. Ein Dateiimport könnte wie folgt aussehen:\n",
    "\n",
    "`f = open(\"C:\\Users\\panke\\filename.txt\",\"w\")`\n",
    "\n",
    "Benötigt wird dafür der Dateipfad und -name `\"C:\\Users\\panke\\filename.txt\"`, sowie der Modus, indem die Datei geöffnet werden soll, hier `\"w\"`, wobei \n",
    "\n",
    "- `\"w\"` für write (also schreiben)\n",
    "- `\"r\"` für read (also lesen)\n",
    "- `\"a\"` für append (also anhängen)\n",
    "\n",
    "steht.\n",
    "\n",
    "Wichtig ist, dass, nachdem die relevanten Informationen aus einer Datei gelesen und zum Beispiel in einer Variablen gespeichert wurden, die Datei auch wieder geschlossen wird. Dies geschieht durch `f.close()`"
   ]
  },
  {
   "cell_type": "code",
   "execution_count": null,
   "id": "cba31af5-f882-42db-bd26-ad3e805dfb5a",
   "metadata": {},
   "outputs": [],
   "source": [
    "f = open(\"filename.txt\",\"w\",encoding=\"ascii\")\n",
    "list(\"filename.txt\")\n",
    "f.close()\n",
    "print(list)"
   ]
  },
  {
   "cell_type": "code",
   "execution_count": null,
   "id": "eaf77809-5f01-4529-95db-d4198bc00e11",
   "metadata": {},
   "outputs": [],
   "source": []
  }
 ],
 "metadata": {
  "kernelspec": {
   "display_name": "Python [conda env:base] *",
   "language": "python",
   "name": "conda-base-py"
  },
  "language_info": {
   "codemirror_mode": {
    "name": "ipython",
    "version": 3
   },
   "file_extension": ".py",
   "mimetype": "text/x-python",
   "name": "python",
   "nbconvert_exporter": "python",
   "pygments_lexer": "ipython3",
   "version": "3.12.7"
  }
 },
 "nbformat": 4,
 "nbformat_minor": 5
}
