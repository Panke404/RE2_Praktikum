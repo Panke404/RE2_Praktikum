{
 "cells": [
  {
   "cell_type": "markdown",
   "id": "a517b815-502a-486d-8250-935f57120623",
   "metadata": {},
   "source": [
    "# Praktikum Regenerative Energien 2"
   ]
  },
  {
   "cell_type": "markdown",
   "id": "ad5847d9-83a5-4b2d-b5fc-fe5dc5703eb8",
   "metadata": {},
   "source": [
    "Wilkommen zum Jupyter Notebook zum Praktikum Regenerative Energien 2.\n",
    "\n",
    "Hier finden Sie Anleitungen zur Erstellung einer Messdatenauswertung und Diagrammerstellung mit Hilfe von Pyhton-Code.\n",
    "\n",
    "---\n"
   ]
  },
  {
   "cell_type": "markdown",
   "id": "060766c5-972f-4e89-84ff-372288e1cc1b",
   "metadata": {},
   "source": [
    "## Was ist Python?\n",
    "Python ist eine universelle Programmiersprache, die eine Logik enthält, die das Coden einfacher macht als in vielen anderen Programmiersprachen. Zu beachten ist, dass Python standartisierte Befehle enthält, die teilweise nicht abwärtskompatibel sind. Sie sollten also immer mit einer aktuellen Python-Version arbeiten, damit es zu keinen Fehlern kommt. Ein Beispiel hierfür ist der `print` Befehl. Dieser schreibt standartmäßig den Text, der im Anschluss in runde Klammern `()` und in Anführungszeichen `\"\"` eingefügt ist auf den Bildschirm.\n",
    "So erzeugt `print (\"Willkommen zum Praktikum Regenerative Energien 2\")` die entsprechende Ausgabe."
   ]
  },
  {
   "cell_type": "code",
   "execution_count": 1,
   "id": "4b702eea-ce4a-45e0-9287-fe79028eef77",
   "metadata": {},
   "outputs": [
    {
     "name": "stdout",
     "output_type": "stream",
     "text": [
      "Willkommen zum Praktikum Regenerative Energien 2\n"
     ]
    }
   ],
   "source": [
    "print (\"Willkommen zum Praktikum Regenerative Energien 2\")"
   ]
  },
  {
   "cell_type": "markdown",
   "id": "dad75d80-0e43-459b-a678-7bdd56daba9c",
   "metadata": {},
   "source": [
    "Wie jede Programmiersprache folgt auch Python einer bestimmten Syntax. Betrachten wir das obere Beispiel\n",
    "`print (\"Willkommen zum Praktikum Regenerative Energien 2\")`\n",
    "\n"
   ]
  },
  {
   "cell_type": "markdown",
   "id": "73844f93-1b68-4c4d-9fc6-965e9596f7f7",
   "metadata": {},
   "source": [
    "Hier ist, wie bereits gezeigt, der ausgeführte Befehl `print`\n",
    "Das Argument, das ausgeführt werden soll, kommt anschließend in runde Klammern `( )`\n",
    "Damit Python zwischen Code und reinem Text unterscheiden kann, wird nun der Text in Anführungsstriche `\" \"`eingerahmt, sodass die Syntax versteht, dass es ein einfacher Text ist und nicht ein anderer Befehl."
   ]
  },
  {
   "cell_type": "markdown",
   "id": "d1c436b7-a527-4b2a-8c0c-7258b9a64dc9",
   "metadata": {},
   "source": [
    "> Denn: *prinzipiell kann **alles** als Befehl oder Variable definiert werden*.\n",
    "\n",
    "Auch voreingestellte Befehle, wie z.B. `print` können neu definiert werden, dies führt jedoch zu einer schlechteren Lesbarkeit des Codes für andere und sollte daher stets vermieden werden."
   ]
  },
  {
   "cell_type": "markdown",
   "id": "ff14d4f4-8922-4261-bad0-ff8eaad314bc",
   "metadata": {},
   "source": [
    "Außerdem gilt: Variablen sollten möglichst genau benannt werden, damit der Code besser lesbar wird. Also nicht `x1 = 2` und `x2 = 5` wenn x1 eigentlich für eine Spannung und x2 für eine Stromstärke steht. Dafür bietet sich an x1 als voltage und x2 als current zu bezeichnen:\n",
    "`voltage = 2` und `current = 5`"
   ]
  },
  {
   "cell_type": "markdown",
   "id": "56dfc070-6c64-47cb-954c-fd416754b350",
   "metadata": {},
   "source": [
    "Wie Sie sehen können, sind alle voreingestellten Python-Befehle generell auf englisch geschrieben. Sie können jedoch Ihre Variablen und Befehle bennen wie Sie wollen. Wir können also auch `Spannung = 2`und `Stromstärke = 5` für x1 und x2 als Benennung nehmen. und haben somit Spannung und Stromstärke als Variable. \n",
    "\n",
    "Außerdem können Sie Ihren Code mit Kommentaren versehen indem Sie `#` vor dem Text schreiben. Sinnvolle Kommentare erleichtern Ihnen und anderen das Lesen des Codes!\n",
    "\n",
    "---\n",
    "\n",
    "Ein Beispiel:"
   ]
  },
  {
   "cell_type": "code",
   "execution_count": 2,
   "id": "e1e5aeaf-a4b5-462d-bc87-cd46ed42a7b2",
   "metadata": {},
   "outputs": [
    {
     "name": "stdout",
     "output_type": "stream",
     "text": [
      "<class 'int'>\n",
      "<class 'int'>\n"
     ]
    }
   ],
   "source": [
    "# Hier definieren wir die Variablen 'Spannung' und 'Stromstärke'\n",
    "Spannung = 2 \n",
    "Stromstärke = 5\n",
    "\n",
    "# Mit dem type Befehl können wir einsehen, welchen Typ unsere Variablen haben. Mit dem print Befehl kkönnen wir dies entsprechend ausgeben\n",
    "print (type (Spannung))\n",
    "print (type (Stromstärke))"
   ]
  },
  {
   "cell_type": "markdown",
   "id": "4b84afc3-c6cb-4c0e-82f1-f703f46eca20",
   "metadata": {},
   "source": [
    "`int` steht dabei für Integer. Die Datentypen sind:\n",
    "\n",
    "<table style=\"width:50%\">\n",
    "    <tr>\n",
    "        <th>Datentyp</th>\n",
    "        <th>Bedeutung</th>\n",
    "        <th>Beispiel</th>\n",
    "    </tr>\n",
    "    <tr>\n",
    "        <td style=\"text-align:center;\">  int </td>\n",
    "        <td style=\"text-align:center;\">integer, ganze Zahlen</td>\n",
    "        <td style=\"text-align:center;\">7 89    -10820</td>\n",
    "    </tr>\n",
    "    <tr>\n",
    "        <td style=\"text-align:center;\"> float </td>\n",
    "        <td style=\"text-align:center;\">Kommazahlen</td>\n",
    "        <td style=\"text-align:center;\">2.3    0.0    -1.7e-20</td>\n",
    "    </tr>\n",
    "    <tr>\n",
    "        <td style=\"text-align:center;\"> bool </td>\n",
    "        <td style=\"text-align:center;\">boolean, wahr/falsch</td>\n",
    "        <td style=\"text-align:center;\">true    false</td>\n",
    "    </tr>\n",
    "    <tr>\n",
    "        <td style=\"text-align:center;\"> str </td>\n",
    "        <td style=\"text-align:center;\">string, Text</td>\n",
    "        <td style=\"text-align:center;\">Hallo</td>\n",
    "    </tr>\n",
    "     <tr>\n",
    "        <td style=\"text-align:center;\"> bytes </td>\n",
    "        <td style=\"text-align:center;\"></td>\n",
    "        <td style=\"text-align:center;\"></td>\n",
    "    </tr>\n",
    "</table>"
   ]
  },
  {
   "cell_type": "markdown",
   "id": "f9583280-2af4-4f85-abe8-0938f6086c12",
   "metadata": {},
   "source": [
    "Bei Variablen und Befehlen ist prinzipiell auf Groß- und Kleinschreibung zu achten (case sensitive!). Variablen können also frei benannt werden, dürfen jedoch\n",
    "- nicht mit einer Zahl beginnen (`x1`ist in Ordnung, `1x` jedoch nicht)\n",
    "- keine Sonderzeichen enthalten, außer _ (`x_1`ist in Ordnung, `x-1`jedoch nicht)\n",
    "\n",
    "Wir haben die Variable für die Spannung als `Spannung`bezeichnet. Wenn wir nun den Wert, den die Variable angenommen hat ausgeben lassen wollen durch den `print` Befehl, sehen wir, dass `spannung`nicht definiert ist:"
   ]
  },
  {
   "cell_type": "code",
   "execution_count": 3,
   "id": "fcf06194-c55b-44cf-9d98-82be28e16f95",
   "metadata": {},
   "outputs": [
    {
     "name": "stdout",
     "output_type": "stream",
     "text": [
      "2\n"
     ]
    }
   ],
   "source": [
    "print (Spannung)"
   ]
  },
  {
   "cell_type": "code",
   "execution_count": 4,
   "id": "c81fb85e-cbc3-43b0-b7d7-317b786e308d",
   "metadata": {},
   "outputs": [
    {
     "ename": "NameError",
     "evalue": "name 'spannung' is not defined",
     "output_type": "error",
     "traceback": [
      "\u001b[1;31m---------------------------------------------------------------------------\u001b[0m",
      "\u001b[1;31mNameError\u001b[0m                                 Traceback (most recent call last)",
      "Cell \u001b[1;32mIn[4], line 1\u001b[0m\n\u001b[1;32m----> 1\u001b[0m \u001b[38;5;28mprint\u001b[39m (spannung)\n",
      "\u001b[1;31mNameError\u001b[0m: name 'spannung' is not defined"
     ]
    }
   ],
   "source": [
    "print (spannung)"
   ]
  },
  {
   "cell_type": "markdown",
   "id": "74b71881-3a72-493a-919a-1c039217ecb6",
   "metadata": {},
   "source": [
    "In Pyhton kann direkt in einer Codezeile gerechnet werden. Dies gilt sowohl für klassische Berechnungen wie:"
   ]
  },
  {
   "cell_type": "code",
   "execution_count": 5,
   "id": "9b493d5a-a460-4978-9a12-40608a48037a",
   "metadata": {},
   "outputs": [
    {
     "data": {
      "text/plain": [
       "15"
      ]
     },
     "execution_count": 5,
     "metadata": {},
     "output_type": "execute_result"
    }
   ],
   "source": [
    "3+12"
   ]
  },
  {
   "cell_type": "markdown",
   "id": "fc7043a1-0ff6-4d3c-b147-dee182a36a5a",
   "metadata": {},
   "source": [
    "wobei das Ergebnis in einer neuen Zeile ausgegeben wird, als auch für Berechnungen mit Variablen wie:"
   ]
  },
  {
   "cell_type": "code",
   "execution_count": 6,
   "id": "01173e28-d606-4283-b31c-7146eb3729c8",
   "metadata": {},
   "outputs": [
    {
     "data": {
      "text/plain": [
       "10"
      ]
     },
     "execution_count": 6,
     "metadata": {},
     "output_type": "execute_result"
    }
   ],
   "source": [
    "Leistung = Spannung * Stromstärke\n",
    "# Um das Ergebnis auszugeben, können wir einfach nur den Variablen-Namen schreiben, oder wie oben den print() Befehl verwenden\n",
    "Leistung"
   ]
  },
  {
   "cell_type": "markdown",
   "id": "49762a8d-8d26-49d2-8002-5c0e07866654",
   "metadata": {},
   "source": [
    "Dies funktioniert mit den Grundoperationen:\n",
    "\n",
    "- Addition: `+`\n",
    "- Substraktion `-`\n",
    "- Multiplikation `*`\n",
    "- Division `/`\n",
    "- Potenzieren `**`"
   ]
  },
  {
   "cell_type": "markdown",
   "id": "c14fc9b7-bd23-4d83-9be1-7aa2eff17e9c",
   "metadata": {},
   "source": [
    "Variablen können auch mehr als ein Argument enthalten. Die Argumente werden dann in Listen gespeichert.\n",
    "`Spannung = 1, 4, 6, 4, 5, 2` ist demnach eine Liste mit 6 Einträgen."
   ]
  },
  {
   "cell_type": "code",
   "execution_count": 7,
   "id": "0a3c3a77-273b-4562-bb4c-6d3ac24e9f51",
   "metadata": {},
   "outputs": [
    {
     "name": "stdout",
     "output_type": "stream",
     "text": [
      "(1, 4, 6, 4, 5, 2)\n"
     ]
    }
   ],
   "source": [
    "Spannung = 1, 4, 6, 4, 5, 2\n",
    "\n",
    "print (Spannung)"
   ]
  },
  {
   "cell_type": "markdown",
   "id": "4b2b5653-b8a2-4c83-9629-fb9315f116b1",
   "metadata": {},
   "source": [
    "Dies ist wichtig für die Datenerfassung und -auswertung. Diese Listen können händisch, also wie im oberen Beispiel, erstellt werden, oder aus Dateien importiert werden. Außerdem können einzelne Inhalte der Liste oder Teile einer Liste abgerufen werden mit dem Befehl `Listenname[n]`:"
   ]
  },
  {
   "cell_type": "code",
   "execution_count": 9,
   "id": "8ef46403-48af-4a26-9d54-d5ec6e219eee",
   "metadata": {},
   "outputs": [
    {
     "data": {
      "text/plain": [
       "1"
      ]
     },
     "execution_count": 9,
     "metadata": {},
     "output_type": "execute_result"
    }
   ],
   "source": [
    "Spannung[0]"
   ]
  },
  {
   "cell_type": "markdown",
   "id": "c55210f3-2d03-4f3e-b03f-a456999a1b59",
   "metadata": {},
   "source": [
    "Zu beachten ist, dass Python mit dem Index 0 beginnt, nicht mit 1. Der Befehl"
   ]
  },
  {
   "cell_type": "code",
   "execution_count": 10,
   "id": "59e7da45-eb83-422b-b6d5-0ec4f2e93ac1",
   "metadata": {},
   "outputs": [
    {
     "data": {
      "text/plain": [
       "4"
      ]
     },
     "execution_count": 10,
     "metadata": {},
     "output_type": "execute_result"
    }
   ],
   "source": [
    "Spannung[1]"
   ]
  },
  {
   "cell_type": "markdown",
   "id": "9399b584-17f4-4bcb-b243-8c875aa27cd4",
   "metadata": {},
   "source": [
    "Gibt also den zweiten Eintrag der Liste aus (in diesem Fall die Zahl `4`). Mit dem Index `[-1]` kann auch der letzte Eintrag abgerufen werden."
   ]
  },
  {
   "cell_type": "code",
   "execution_count": 11,
   "id": "0162cdcf-05e4-434e-a005-5904d048686b",
   "metadata": {},
   "outputs": [
    {
     "data": {
      "text/plain": [
       "2"
      ]
     },
     "execution_count": 11,
     "metadata": {},
     "output_type": "execute_result"
    }
   ],
   "source": [
    "Spannung[-1]"
   ]
  },
  {
   "cell_type": "markdown",
   "id": "53a372e7-be6b-4cfd-986f-eaf7df2bfaf5",
   "metadata": {},
   "source": [
    "Um mehrere Einträge abzurufen können wir die Funktion mit der Syntax `Listenname[Start:Ende:Schrittweite]` verwenden. So gibt der Befehl"
   ]
  },
  {
   "cell_type": "code",
   "execution_count": 12,
   "id": "c77bc4d6-9c8e-40f4-bc6f-3e138b6592be",
   "metadata": {},
   "outputs": [
    {
     "data": {
      "text/plain": [
       "(1, 6, 5)"
      ]
     },
     "execution_count": 12,
     "metadata": {},
     "output_type": "execute_result"
    }
   ],
   "source": [
    "Spannung[0:6:2]"
   ]
  },
  {
   "cell_type": "markdown",
   "id": "d4fe05ee-81d7-4c38-bc63-b2db36580f1e",
   "metadata": {},
   "source": [
    "Den ersten, dritten und fünften Listenwert aus."
   ]
  },
  {
   "cell_type": "markdown",
   "id": "66768779-b623-479b-a640-6cce7bade685",
   "metadata": {},
   "source": [
    "Für das Praktikum zeigen wir im Folgenden einen Weg auf, wie die Rohdaten aus einer Datei in einer Python-Variable eingelesen werden können. Dafür müssen die Rohdaten entsprechend formatiert werden und in einer .txt oder .csv Datei gespeichert werden. Nähere Informationen dazu finden Sie im nächsten [Kapitel](http://localhost:8950/notebooks/Datenimport.ipynb)"
   ]
  },
  {
   "cell_type": "code",
   "execution_count": null,
   "id": "5df5056e-a288-48a5-83f2-e9ff175a6dcc",
   "metadata": {},
   "outputs": [],
   "source": []
  }
 ],
 "metadata": {
  "kernelspec": {
   "display_name": "Python 3 (ipykernel)",
   "language": "python",
   "name": "python3"
  },
  "language_info": {
   "codemirror_mode": {
    "name": "ipython",
    "version": 3
   },
   "file_extension": ".py",
   "mimetype": "text/x-python",
   "name": "python",
   "nbconvert_exporter": "python",
   "pygments_lexer": "ipython3",
   "version": "3.11.11"
  }
 },
 "nbformat": 4,
 "nbformat_minor": 5
}
